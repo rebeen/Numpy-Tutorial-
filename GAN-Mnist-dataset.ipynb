{
 "cells": [
  {
   "cell_type": "code",
   "execution_count": 2,
   "metadata": {
    "collapsed": true
   },
   "outputs": [],
   "source": [
    "##Importing libraries \n",
    "import numpy as np\n",
    "import matplotlib.pyplot as plt\n",
    "%matplotlib inline\n",
    "import random\n",
    "import tensorflow as tf\n",
    "from tensorflow.examples.tutorials.mnist import input_data"
   ]
  },
  {
   "cell_type": "code",
   "execution_count": 5,
   "metadata": {},
   "outputs": [
    {
     "name": "stdout",
     "output_type": "stream",
     "text": [
      "Extracting /tmp/data/train-images-idx3-ubyte.gz\n",
      "Extracting /tmp/data/train-labels-idx1-ubyte.gz\n",
      "Extracting /tmp/data/t10k-images-idx3-ubyte.gz\n",
      "Extracting /tmp/data/t10k-labels-idx1-ubyte.gz\n",
      "(55000, 784)\n"
     ]
    },
    {
     "data": {
      "text/plain": [
       "<matplotlib.image.AxesImage at 0x7fb8752455c0>"
      ]
     },
     "execution_count": 5,
     "metadata": {},
     "output_type": "execute_result"
    },
    {
     "data": {
      "image/png": "[encoded data removed]",
      "text/plain": [
       "<matplotlib.figure.Figure at 0x7fb877f89940>"
      ]
     },
     "metadata": {},
     "output_type": "display_data"
    }
   ],
   "source": [
    "## Reading the data## Read \n",
    "df=input_data.read_data_sets(\"/tmp/data/\",one_hot=True)\n",
    "print(df.train.images.shape)\n",
    "example=np.random.randint(0,55000)\n",
    "\n",
    "im=df.train.images[example].reshape([28,28])\n",
    "plt.imshow(im,cmap=plt.get_cmap('gray_r'))\n"
   ]
  },
  {
   "cell_type": "code",
   "execution_count": 6,
   "metadata": {
    "collapsed": true
   },
   "outputs": [],
   "source": [
    "###Neural Network Parameters###Neur \n",
    "### 28*28=784\n",
    "img_dim=784\n",
    "gen_dim=256\n",
    "disc_dim=256\n",
    "noise_dim=100"
   ]
  },
  {
   "cell_type": "code",
   "execution_count": 7,
   "metadata": {
    "collapsed": true
   },
   "outputs": [],
   "source": [
    "gen_inp= tf.placeholder(tf.float32,shape=[None,noise_dim])  #100\n",
    "disc_input=tf.placeholder(tf.float32,shape=[None,img_dim])   #784"
   ]
  },
  {
   "cell_type": "code",
   "execution_count": 8,
   "metadata": {
    "collapsed": true
   },
   "outputs": [],
   "source": [
    "### Neural Network training parameters\n",
    "\n",
    "batch_size=128\n",
    "num_steps=80000\n",
    "learning_rate=2e-4\n",
    "display_step=20"
   ]
  },
  {
   "cell_type": "code",
   "execution_count": 21,
   "metadata": {
    "collapsed": true
   },
   "outputs": [],
   "source": [
    "def weight_init(shape):\n",
    "    return tf.random_normal(shape=shape,stddev=1. / tf.sqrt(shape[0] / 2.))"
   ]
  },
  {
   "cell_type": "code",
   "execution_count": 28,
   "metadata": {},
   "outputs": [],
   "source": [
    "\n",
    "###Model Architechture Weights###Mode \n",
    "\n",
    "\n",
    "W={\"w1\":tf.Variable(weight_init([noise_dim,gen_dim])),\n",
    "   \"w2\": tf.Variable(weight_init([gen_dim,img_dim])),\n",
    "   \"w3\": tf.Variable(weight_init([img_dim,disc_dim])), \n",
    "   \"w4\": tf.Variable(weight_init([disc_dim,1]))} \n",
    "\n",
    "b={\"b1\":tf.Variable(tf.zeros([gen_dim])),\n",
    "   \"b2\":tf.Variable(tf.zeros([img_dim])),\n",
    "   \"b3\":tf.Variable(tf.zeros([disc_dim])),\n",
    "   \"b4\":tf.Variable(tf.zeros([1]))}\n"
   ]
  },
  {
   "cell_type": "code",
   "execution_count": 29,
   "metadata": {
    "collapsed": true
   },
   "outputs": [],
   "source": [
    "### Model Architechture \n",
    "\n",
    "##Generator \n",
    "\n",
    "def gen_fun(x):\n",
    "    h1=tf.matmul(x,W[\"w1\"])\n",
    "    h1=tf.add(h1,b[\"b1\"])\n",
    "    h1=tf.nn.relu(h1)\n",
    "    \n",
    "    h1=tf.matmul(h1,W[\"w2\"])\n",
    "    h1=tf.add(h1,b[\"b2\"])\n",
    "    h1=tf.nn.sigmoid(h1)\n",
    "    \n",
    "    return h1\n",
    "\n",
    "\n",
    "def disc_fun(x):\n",
    "    h2=tf.matmul(x,W[\"w3\"])\n",
    "    h2=tf.add(h2,b[\"b3\"])\n",
    "    h2=tf.nn.relu(h2)\n",
    "    print(h2.shape)\n",
    "    \n",
    "    h2=tf.matmul(h2,W[\"w4\"])\n",
    "    h2=tf.add(h2,b[\"b4\"])\n",
    "    h2=tf.nn.sigmoid(h2)\n",
    "    print(h2.shape)\n",
    "    \n",
    "    return h2"
   ]
  },
  {
   "cell_type": "code",
   "execution_count": 30,
   "metadata": {},
   "outputs": [
    {
     "name": "stdout",
     "output_type": "stream",
     "text": [
      "(?, 256)\n",
      "(?, 1)\n",
      "(?, 256)\n",
      "(?, 1)\n"
     ]
    }
   ],
   "source": [
    "###Cost function Optimization & Model Evaluation\n",
    "\n",
    "gen_out=gen_fun(gen_inp)\n",
    "\n",
    "disc_real_out=disc_fun(disc_input)\n",
    "disc_fake_out=disc_fun(gen_out)\n",
    "\n",
    "optim_gen=tf.train.AdamOptimizer(learning_rate=learning_rate)\n",
    "#optim_disc=tf.train.AdamOptimizer(learning_rate=learning_rate)\n",
    "\n",
    "cost_gen=-tf.reduce_mean(tf.log(disc_fake_out))\n",
    "cost_disc=-tf.reduce_mean(tf.log(disc_real_out)+tf.log(1.-disc_fake_out))\n",
    "\n",
    "###Generator and Discriminator Variables\n",
    "vars_gen = [W['w1'], W['w2'],b['b1'], b['b2']]\n",
    "vars_disc = [W['w3'],W['w4'],b['b3'], b['b4']]\n",
    "\n",
    "\n",
    "training_gen=optim_gen.minimize(cost_gen,var_list=vars_gen)\n",
    "training_disc=optim_gen.minimize(cost_disc,var_list=vars_disc)"
   ]
  },
  {
   "cell_type": "code",
   "execution_count": 31,
   "metadata": {},
   "outputs": [
    {
     "name": "stdout",
     "output_type": "stream",
     "text": [
      "Step 1: Generator Loss: 0.683622, Discriminator Loss: 1.312808\n",
      "Step 2000: Generator Loss: 5.570976, Discriminator Loss: 0.021730\n",
      "Step 4000: Generator Loss: 4.388021, Discriminator Loss: 0.041806\n",
      "Step 6000: Generator Loss: 4.138845, Discriminator Loss: 0.163483\n",
      "Step 8000: Generator Loss: 3.857074, Discriminator Loss: 0.149527\n",
      "Step 10000: Generator Loss: 3.940086, Discriminator Loss: 0.210874\n",
      "Step 12000: Generator Loss: 4.033739, Discriminator Loss: 0.111421\n",
      "Step 14000: Generator Loss: 3.758418, Discriminator Loss: 0.228103\n",
      "Step 16000: Generator Loss: 3.487804, Discriminator Loss: 0.323091\n",
      "Step 18000: Generator Loss: 2.828978, Discriminator Loss: 0.340481\n",
      "Step 20000: Generator Loss: 4.097672, Discriminator Loss: 0.163275\n",
      "Step 22000: Generator Loss: 4.056157, Discriminator Loss: 0.270224\n",
      "Step 24000: Generator Loss: 3.350145, Discriminator Loss: 0.305221\n",
      "Step 26000: Generator Loss: 3.515990, Discriminator Loss: 0.202704\n",
      "Step 28000: Generator Loss: 3.556008, Discriminator Loss: 0.342599\n",
      "Step 30000: Generator Loss: 3.239312, Discriminator Loss: 0.350924\n",
      "Step 32000: Generator Loss: 3.425291, Discriminator Loss: 0.317536\n",
      "Step 34000: Generator Loss: 3.755538, Discriminator Loss: 0.327707\n",
      "Step 36000: Generator Loss: 2.962362, Discriminator Loss: 0.312126\n",
      "Step 38000: Generator Loss: 3.011306, Discriminator Loss: 0.541637\n",
      "Step 40000: Generator Loss: 3.081151, Discriminator Loss: 0.558259\n",
      "Step 42000: Generator Loss: 2.788776, Discriminator Loss: 0.391883\n",
      "Step 44000: Generator Loss: 2.996532, Discriminator Loss: 0.398688\n",
      "Step 46000: Generator Loss: 3.074639, Discriminator Loss: 0.349262\n",
      "Step 48000: Generator Loss: 2.860876, Discriminator Loss: 0.452882\n",
      "Step 50000: Generator Loss: 3.068686, Discriminator Loss: 0.696707\n",
      "Step 52000: Generator Loss: 2.889609, Discriminator Loss: 0.382662\n",
      "Step 54000: Generator Loss: 2.901132, Discriminator Loss: 0.509998\n",
      "Step 56000: Generator Loss: 3.103691, Discriminator Loss: 0.397053\n",
      "Step 58000: Generator Loss: 3.071076, Discriminator Loss: 0.422685\n",
      "Step 60000: Generator Loss: 3.515774, Discriminator Loss: 0.298011\n",
      "Step 62000: Generator Loss: 3.296140, Discriminator Loss: 0.328263\n",
      "Step 64000: Generator Loss: 3.158076, Discriminator Loss: 0.410557\n",
      "Step 66000: Generator Loss: 3.081822, Discriminator Loss: 0.357351\n",
      "Step 68000: Generator Loss: 2.702523, Discriminator Loss: 0.506051\n",
      "Step 70000: Generator Loss: 3.055324, Discriminator Loss: 0.375658\n",
      "Step 72000: Generator Loss: 3.182406, Discriminator Loss: 0.296499\n",
      "Step 74000: Generator Loss: 3.158042, Discriminator Loss: 0.384812\n",
      "Step 76000: Generator Loss: 3.722323, Discriminator Loss: 0.490042\n",
      "Step 78000: Generator Loss: 2.915213, Discriminator Loss: 0.451214\n",
      "Step 80000: Generator Loss: 2.683169, Discriminator Loss: 0.343044\n",
      "Finished!\n"
     ]
    },
    {
     "data": {
      "image/png": "[encoded data removed]",
      "text/plain": [
       "<matplotlib.figure.Figure at 0x7fb874e32a20>"
      ]
     },
     "metadata": {},
     "output_type": "display_data"
    }
   ],
   "source": [
    "# Initialize the variables (i.e. assign their default value)\n",
    "init = tf.global_variables_initializer()\n",
    "\n",
    "###Staring the Model training Session\n",
    "with tf.Session() as sess:\n",
    "\n",
    "    # Run the initializer\n",
    "    sess.run(init)\n",
    "\n",
    "    for step in range(1, num_steps+1):\n",
    "        batch_x, _ = df.train.next_batch(batch_size)\n",
    "        \n",
    "        # Generate noise to feed to the generator\n",
    "        noise_temp = np.random.uniform(-1., 1., size=[batch_size, noise_dim])\n",
    "        \n",
    "        # Run optimization op (backprop)\n",
    "        feed_dict = {disc_input: batch_x, gen_inp: noise_temp}\n",
    "        _, _, gl, dl = sess.run([training_gen, training_disc, cost_gen, cost_disc],\n",
    "                            feed_dict=feed_dict)\n",
    "        if step % 2000 == 0 or step == 1:\n",
    "            print('Step %i: Generator Loss: %f, Discriminator Loss: %f' % (step, gl, dl))\n",
    "    print(\"Finished!\")\n",
    "    \n",
    "    \n",
    "    # Testing\n",
    "    # Generating the  images using the generator network\n",
    "    n = 6\n",
    "    canvas = np.empty((28 * n, 28 * n))\n",
    "\n",
    "    for i in range(n):\n",
    "      # Noise input.\n",
    "        z = np.random.uniform(-1., 1., size=[n, noise_dim])\n",
    "      # Generate image from noise.\n",
    "        g = sess.run(gen_out, feed_dict={gen_inp: z})\n",
    "      # Reverse colours for better display\n",
    "        g = -1 * (g - 1)\n",
    "        for j in range(n):\n",
    "        # Draw the generated digits\n",
    "            canvas[i * 28:(i + 1) * 28, j * 28:(j + 1) * 28] = g[j].reshape([28, 28])\n",
    "\n",
    "    plt.figure(figsize=(n, n))\n",
    "    plt.imshow(canvas, origin=\"upper\", cmap=\"gray\")\n",
    "    plt.show()"
   ]
  }
 ],
 "metadata": {
  "kernelspec": {
   "display_name": "Python 3",
   "language": "python",
   "name": "python3"
  },
  "language_info": {
   "codemirror_mode": {
    "name": "ipython",
    "version": 3
   },
   "file_extension": ".py",
   "mimetype": "text/x-python",
   "name": "python",
   "nbconvert_exporter": "python",
   "pygments_lexer": "ipython3",
   "version": "3.6.3"
  }
 },
 "nbformat": 4,
 "nbformat_minor": 2
}
